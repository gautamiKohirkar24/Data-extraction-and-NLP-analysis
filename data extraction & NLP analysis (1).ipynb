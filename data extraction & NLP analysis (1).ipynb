{
  "nbformat": 4,
  "nbformat_minor": 0,
  "metadata": {
    "colab": {
      "provenance": []
    },
    "kernelspec": {
      "name": "python3",
      "display_name": "Python 3"
    },
    "language_info": {
      "name": "python"
    }
  },
  "cells": [
    {
      "cell_type": "code",
      "execution_count": 1,
      "metadata": {
        "id": "UFesrVKk66QB"
      },
      "outputs": [],
      "source": [
        "import pandas as pd\n",
        "import requests\n",
        "from bs4 import BeautifulSoup\n",
        "import os"
      ]
    },
    {
      "cell_type": "code",
      "source": [
        "# Load URLs from Excel\n",
        "input_file = '/content/Input.xlsx'\n",
        "df = pd.read_excel(input_file)\n",
        "output_dir = 'extracted_articles'\n",
        "os.makedirs(output_dir, exist_ok=True)\n",
        "\n",
        "def extract_article(url):\n",
        "    try:\n",
        "        response = requests.get(url)\n",
        "        soup = BeautifulSoup(response.text, 'html.parser')\n",
        "\n",
        "        # Extract title and text (customize based on HTML structure)\n",
        "        title = soup.find('title').text.strip()\n",
        "        article_body = soup.find('article') or soup.find('div', class_='article-content')\n",
        "\n",
        "        if article_body:\n",
        "            article_text = ' '.join(p.get_text() for p in article_body.find_all('p'))\n",
        "        else:\n",
        "            article_text = ''\n",
        "\n",
        "        return title, article_text\n",
        "    except Exception as e:\n",
        "        print(f\"Error fetching {url}: {e}\")\n",
        "        return None, None\n",
        "\n",
        "# Iterate over URLs and save articles\n",
        "for index, row in df.iterrows():\n",
        "    url = row['URL']\n",
        "    url_id = row['URL_ID']\n",
        "    title, article_text = extract_article(url)\n",
        "\n",
        "    if article_text:\n",
        "        file_path = os.path.join(output_dir, f\"{url_id}.txt\")\n",
        "        with open(file_path, 'w', encoding='utf-8') as file:\n",
        "            file.write(f\"Title: {title}\\n\\n{article_text}\")"
      ],
      "metadata": {
        "id": "uy6qglDg6_2T"
      },
      "execution_count": 3,
      "outputs": []
    },
    {
      "cell_type": "markdown",
      "source": [
        "### Text Analysis"
      ],
      "metadata": {
        "id": "ncHuakV47Wq9"
      }
    },
    {
      "cell_type": "code",
      "source": [
        "!pip install textstat"
      ],
      "metadata": {
        "colab": {
          "base_uri": "https://localhost:8080/"
        },
        "id": "17nvaXyZ8Qjc",
        "outputId": "7025e633-cb39-4bc3-90d3-f1d712352fcb"
      },
      "execution_count": 4,
      "outputs": [
        {
          "output_type": "stream",
          "name": "stdout",
          "text": [
            "Collecting textstat\n",
            "  Downloading textstat-0.7.4-py3-none-any.whl.metadata (14 kB)\n",
            "Collecting pyphen (from textstat)\n",
            "  Downloading pyphen-0.15.0-py3-none-any.whl.metadata (3.3 kB)\n",
            "Requirement already satisfied: setuptools in /usr/local/lib/python3.10/dist-packages (from textstat) (71.0.4)\n",
            "Downloading textstat-0.7.4-py3-none-any.whl (105 kB)\n",
            "\u001b[2K   \u001b[90m━━━━━━━━━━━━━━━━━━━━━━━━━━━━━━━━━━━━━━━━\u001b[0m \u001b[32m105.1/105.1 kB\u001b[0m \u001b[31m566.1 kB/s\u001b[0m eta \u001b[36m0:00:00\u001b[0m\n",
            "\u001b[?25hDownloading pyphen-0.15.0-py3-none-any.whl (2.1 MB)\n",
            "\u001b[2K   \u001b[90m━━━━━━━━━━━━━━━━━━━━━━━━━━━━━━━━━━━━━━━━\u001b[0m \u001b[32m2.1/2.1 MB\u001b[0m \u001b[31m6.6 MB/s\u001b[0m eta \u001b[36m0:00:00\u001b[0m\n",
            "\u001b[?25hInstalling collected packages: pyphen, textstat\n",
            "Successfully installed pyphen-0.15.0 textstat-0.7.4\n"
          ]
        }
      ]
    },
    {
      "cell_type": "markdown",
      "source": [
        "### code to load custom lists"
      ],
      "metadata": {
        "id": "9U6RWtsD-5wF"
      }
    },
    {
      "cell_type": "code",
      "source": [
        "def load_word_list(file_path, encoding='utf-8'):\n",
        "    with open(file_path, 'r', encoding=encoding, errors='ignore') as file:\n",
        "        return [line.strip() for line in file]\n",
        "\n",
        "# Try loading with different encodings if necessary\n",
        "try:\n",
        "    positive_words = load_word_list('/content/positive-words.txt')\n",
        "    negative_words = load_word_list('/content/negative-words.txt')\n",
        "except Exception as e:\n",
        "    print(f\"Error: {e}\")\n",
        "\n",
        "def load_stopwords(file_paths):\n",
        "    stopwords = set()\n",
        "    encodings = ['utf-8', 'latin1', 'ISO-8859-1', 'cp1252']  # List of encodings for referance\n",
        "\n",
        "    for file_path in file_paths:\n",
        "        for encoding in encodings:\n",
        "            try:\n",
        "                with open(file_path, 'r', encoding=encoding) as file:\n",
        "                    stopwords.update(line.strip().lower() for line in file)\n",
        "                break  # If successful, exit the encoding loop\n",
        "            except UnicodeDecodeError:\n",
        "                continue  # Try the next encoding\n",
        "            except FileNotFoundError:\n",
        "                print(f\"File not found: {file_path}\")\n",
        "                break\n",
        "            except IOError as e:\n",
        "                print(f\"IO error occurred while reading {file_path}: {e}\")\n",
        "                break\n",
        "    return stopwords\n",
        "\n",
        "# Load stopwords\n",
        "stopwords_files = [\n",
        "    '/content/StopWords_Auditor.txt',\n",
        "    '/content/StopWords_Currencies.txt',\n",
        "    '/content/StopWords_DatesandNumbers.txt',\n",
        "    '/content/StopWords_GenericLong.txt',\n",
        "    '/content/StopWords_Generic.txt',\n",
        "    '/content/StopWords_Geographic.txt',\n",
        "    '/content/StopWords_Names.txt'\n",
        "]\n",
        "\n",
        "stopwords = load_stopwords(stopwords_files)\n"
      ],
      "metadata": {
        "id": "tYnFPzkc8qB4"
      },
      "execution_count": 8,
      "outputs": []
    },
    {
      "cell_type": "markdown",
      "source": [
        "### Performing text analysis"
      ],
      "metadata": {
        "id": "X8QvrnhMBrV9"
      }
    },
    {
      "cell_type": "code",
      "source": [
        "pip install nltk textblob\n"
      ],
      "metadata": {
        "colab": {
          "base_uri": "https://localhost:8080/"
        },
        "id": "X83FwHCaAl5d",
        "outputId": "68ce6a0a-3c84-4220-dda9-4b01a5f3a9fa"
      },
      "execution_count": 9,
      "outputs": [
        {
          "output_type": "stream",
          "name": "stdout",
          "text": [
            "Requirement already satisfied: nltk in /usr/local/lib/python3.10/dist-packages (3.8.1)\n",
            "Requirement already satisfied: textblob in /usr/local/lib/python3.10/dist-packages (0.17.1)\n",
            "Requirement already satisfied: click in /usr/local/lib/python3.10/dist-packages (from nltk) (8.1.7)\n",
            "Requirement already satisfied: joblib in /usr/local/lib/python3.10/dist-packages (from nltk) (1.4.2)\n",
            "Requirement already satisfied: regex>=2021.8.3 in /usr/local/lib/python3.10/dist-packages (from nltk) (2024.5.15)\n",
            "Requirement already satisfied: tqdm in /usr/local/lib/python3.10/dist-packages (from nltk) (4.66.4)\n"
          ]
        }
      ]
    },
    {
      "cell_type": "code",
      "source": [
        "import openpyxl\n",
        "\n",
        "def read_output_structure(file_path):\n",
        "    wb = openpyxl.load_workbook(file_path)\n",
        "    ws = wb.active\n",
        "    structure = [cell.value for cell in ws['A'] if cell.value]  # Assumes the variables are listed in column A\n",
        "    return structure\n",
        "\n",
        "output_structure_file = '/content/Output Data Structure.xlsx'\n",
        "output_structure = read_output_structure(output_structure_file)\n",
        "\n",
        "# Print the output structure to verify\n",
        "print(f\"Output structure: {output_structure}\")\n"
      ],
      "metadata": {
        "colab": {
          "base_uri": "https://localhost:8080/"
        },
        "id": "4hqcLYpLBwU0",
        "outputId": "5048327b-badd-45d7-a8ca-3629fb11449e"
      },
      "execution_count": 11,
      "outputs": [
        {
          "output_type": "stream",
          "name": "stdout",
          "text": [
            "Output structure: ['URL_ID', 'bctech2011', 'bctech2012', 'bctech2013', 'bctech2014', 'bctech2015', 'bctech2016', 'bctech2017', 'bctech2018', 'bctech2019', 'bctech2020', 'bctech2021', 'bctech2022', 'bctech2023', 'bctech2024', 'bctech2025', 'bctech2026', 'bctech2027', 'bctech2028', 'bctech2029', 'bctech2030', 'bctech2031', 'bctech2032', 'bctech2033', 'bctech2034', 'bctech2035', 'bctech2036', 'bctech2037', 'bctech2038', 'bctech2039', 'bctech2040', 'bctech2041', 'bctech2042', 'bctech2043', 'bctech2044', 'bctech2045', 'bctech2046', 'bctech2047', 'bctech2048', 'bctech2049', 'bctech2050', 'bctech2051', 'bctech2052', 'bctech2053', 'bctech2054', 'bctech2055', 'bctech2056', 'bctech2057', 'bctech2058', 'bctech2059', 'bctech2060', 'bctech2061', 'bctech2062', 'bctech2063', 'bctech2064', 'bctech2065', 'bctech2066', 'bctech2067', 'bctech2068', 'bctech2069', 'bctech2070', 'bctech2071', 'bctech2072', 'bctech2073', 'bctech2074', 'bctech2075', 'bctech2076', 'bctech2077', 'bctech2078', 'bctech2079', 'bctech2080', 'bctech2081', 'bctech2082', 'bctech2083', 'bctech2084', 'bctech2085', 'bctech2086', 'bctech2087', 'bctech2088', 'bctech2089', 'bctech2090', 'bctech2091', 'bctech2092', 'bctech2093', 'bctech2094', 'bctech2095', 'bctech2096', 'bctech2097', 'bctech2098', 'bctech2099', 'bctech2100', 'bctech2101', 'bctech2102', 'bctech2103', 'bctech2104', 'bctech2105', 'bctech2106', 'bctech2107', 'bctech2108', 'bctech2109', 'bctech2110', 'bctech2111', 'bctech2112', 'bctech2113', 'bctech2114', 'bctech2115', 'bctech2116', 'bctech2117', 'bctech2118', 'bctech2119', 'bctech2120', 'bctech2121', 'bctech2122', 'bctech2123', 'bctech2124', 'bctech2125', 'bctech2126', 'bctech2127', 'bctech2128', 'bctech2129', 'bctech2130', 'bctech2131', 'bctech2132', 'bctech2133', 'bctech2134', 'bctech2135', 'bctech2136', 'bctech2137', 'bctech2138', 'bctech2139', 'bctech2140', 'bctech2141', 'bctech2142', 'bctech2143', 'bctech2144', 'bctech2145', 'bctech2146', 'bctech2147', 'bctech2148', 'bctech2149', 'bctech2150', 'bctech2151', 'bctech2152', 'bctech2153', 'bctech2154', 'bctech2155', 'bctech2156', 'bctech2157']\n"
          ]
        }
      ]
    },
    {
      "cell_type": "code",
      "source": [
        "import pandas as pd\n",
        "import os\n",
        "from textblob import TextBlob\n",
        "import nltk\n",
        "from nltk.corpus import cmudict\n",
        "from nltk.tokenize import word_tokenize, sent_tokenize\n",
        "import re\n",
        "\n",
        "# Download NLTK data (only need to do this once)\n",
        "nltk.download('punkt')\n",
        "nltk.download('cmudict')\n",
        "\n",
        "# Load the CMU Pronouncing Dictionary\n",
        "d = cmudict.dict()\n",
        "\n",
        "# Function to count syllables\n",
        "def syllable_count(word):\n",
        "    word = word.lower()\n",
        "    if word in d:\n",
        "        return max([len(list(y for y in x if y[-1].isdigit())) for x in d[word]])\n",
        "    else:\n",
        "        return len(re.findall(r'[aeiouy]', word))\n"
      ],
      "metadata": {
        "colab": {
          "base_uri": "https://localhost:8080/"
        },
        "id": "Stm5SmB3B7ZM",
        "outputId": "e5ef3f93-ddeb-4853-b44e-c7e506f479e5"
      },
      "execution_count": 12,
      "outputs": [
        {
          "output_type": "stream",
          "name": "stderr",
          "text": [
            "[nltk_data] Downloading package punkt to /root/nltk_data...\n",
            "[nltk_data]   Unzipping tokenizers/punkt.zip.\n",
            "[nltk_data] Downloading package cmudict to /root/nltk_data...\n",
            "[nltk_data]   Unzipping corpora/cmudict.zip.\n"
          ]
        }
      ]
    },
    {
      "cell_type": "code",
      "source": [
        "# Function to perform text analysis\n",
        "def analyze_text(text):\n",
        "    # Tokenization\n",
        "    sentences = sent_tokenize(text)\n",
        "    words = word_tokenize(text)\n",
        "    num_sentences = len(sentences)\n",
        "    num_words = len(words)\n",
        "\n",
        "    # Filtering\n",
        "    filtered_words = [word for word in words if word.lower() not in stopwords]\n",
        "\n",
        "    # Calculations\n",
        "    syllables = sum(syllable_count(word) for word in filtered_words)\n",
        "    avg_sentence_length = num_words / num_sentences if num_sentences > 0 else 0\n",
        "    complex_word_count = sum(1 for word in filtered_words if syllable_count(word) > 2)\n",
        "    word_count = num_words\n",
        "    personal_pronouns = sum(word.lower() in {'i', 'me', 'my', 'mine', 'myself', 'we', 'our', 'ours', 'ourselves', 'you', 'your', 'yours', 'yourself', 'yourselves', 'he', 'him', 'his', 'himself', 'she', 'her', 'hers', 'herself', 'it', 'its', 'itself', 'they', 'them', 'their', 'theirs', 'themselves'} for word in filtered_words)\n",
        "    avg_word_length = sum(len(word) for word in filtered_words) / word_count if word_count > 0 else 0\n",
        "    percentage_complex_words = (complex_word_count / word_count) * 100 if word_count > 0 else 0\n",
        "\n",
        "    # Sentiment Analysis using custom lists\n",
        "    positive_score = sum(1 for word in filtered_words if word.lower() in positive_words)\n",
        "    negative_score = sum(1 for word in filtered_words if word.lower() in negative_words)\n",
        "\n",
        "    # TextBlob Analysis\n",
        "    blob = TextBlob(text)\n",
        "    polarity_score = blob.sentiment.polarity\n",
        "    subjectivity_score = blob.sentiment.subjectivity\n",
        "\n",
        "    # FOG Index Calculation\n",
        "    fog_index = (avg_sentence_length + percentage_complex_words) * 0.4\n",
        "\n",
        "    return {\n",
        "        'POSITIVE SCORE': positive_score,\n",
        "        'NEGATIVE SCORE': negative_score,\n",
        "        'POLARITY SCORE': polarity_score,\n",
        "        'SUBJECTIVITY SCORE': subjectivity_score,\n",
        "        'AVG SENTENCE LENGTH': avg_sentence_length,\n",
        "        'PERCENTAGE OF COMPLEX WORDS': percentage_complex_words,\n",
        "        'FOG INDEX': fog_index,\n",
        "        'AVG NUMBER OF WORDS PER SENTENCE': avg_sentence_length,\n",
        "        'COMPLEX WORD COUNT': complex_word_count,\n",
        "        'WORD COUNT': word_count,\n",
        "        'SYLLABLE PER WORD': syllables / word_count if word_count > 0 else 0,\n",
        "        'PERSONAL PRONOUNS': personal_pronouns,\n",
        "        'AVG WORD LENGTH': avg_word_length\n",
        "    }\n",
        "\n",
        "# Load the extracted articles\n",
        "output_dir = 'extracted_articles'\n",
        "files = [f for f in os.listdir(output_dir) if f.endswith('.txt')]\n",
        "\n",
        "# Prepare DataFrame to store results\n",
        "results = []\n",
        "\n",
        "for file_name in files:\n",
        "    file_path = os.path.join(output_dir, file_name)\n",
        "    with open(file_path, 'r', encoding='utf-8') as file:\n",
        "        content = file.read()\n",
        "        article_id = os.path.splitext(file_name)[0]\n",
        "        analysis = analyze_text(content)\n",
        "        results.append({'URL_ID': article_id, **analysis})\n",
        "\n",
        "# Convert results to DataFrame\n",
        "results_df = pd.DataFrame(results)\n",
        "\n",
        "# Load the output structure file to ensure correct ordering\n",
        "output_structure_file = '/content/Output Data Structure.xlsx'\n",
        "structure_df = pd.read_excel(output_structure_file)\n",
        "\n",
        "# Print columns to debug\n",
        "print(\"Columns in Output Data Structure:\", structure_df.columns)\n",
        "print(\"Columns in results_df:\", results_df.columns)\n",
        "\n",
        "# Reorder the columns based on the output structure file\n",
        "ordered_columns = ['URL_ID'] + [col for col in structure_df.columns if col in results_df.columns]\n",
        "results_df = results_df[ordered_columns]\n",
        "\n",
        "# Save the results to an Excel file\n",
        "results_df.to_excel('text_analysis_results.xlsx', index=False)\n",
        "print(\"Text analysis completed and results saved to 'text_analysis_results.xlsx'.\")"
      ],
      "metadata": {
        "colab": {
          "base_uri": "https://localhost:8080/"
        },
        "id": "uEgtHmJGEjg1",
        "outputId": "ecc24a61-8e30-4aea-e82c-1dcc5102bae9"
      },
      "execution_count": 14,
      "outputs": [
        {
          "output_type": "stream",
          "name": "stdout",
          "text": [
            "Columns in Output Data Structure: Index(['URL_ID', 'URL', 'POSITIVE SCORE', 'NEGATIVE SCORE', 'POLARITY SCORE',\n",
            "       'SUBJECTIVITY SCORE', 'AVG SENTENCE LENGTH',\n",
            "       'PERCENTAGE OF COMPLEX WORDS', 'FOG INDEX',\n",
            "       'AVG NUMBER OF WORDS PER SENTENCE', 'COMPLEX WORD COUNT', 'WORD COUNT',\n",
            "       'SYLLABLE PER WORD', 'PERSONAL PRONOUNS', 'AVG WORD LENGTH'],\n",
            "      dtype='object')\n",
            "Columns in results_df: Index(['URL_ID', 'POSITIVE SCORE', 'NEGATIVE SCORE', 'POLARITY SCORE',\n",
            "       'SUBJECTIVITY SCORE', 'AVG SENTENCE LENGTH',\n",
            "       'PERCENTAGE OF COMPLEX WORDS', 'FOG INDEX',\n",
            "       'AVG NUMBER OF WORDS PER SENTENCE', 'COMPLEX WORD COUNT', 'WORD COUNT',\n",
            "       'SYLLABLE PER WORD', 'PERSONAL PRONOUNS', 'AVG WORD LENGTH'],\n",
            "      dtype='object')\n",
            "Text analysis completed and results saved to 'text_analysis_results.xlsx'.\n"
          ]
        }
      ]
    },
    {
      "cell_type": "code",
      "source": [
        "import os\n",
        "print(os.listdir('.'))\n"
      ],
      "metadata": {
        "colab": {
          "base_uri": "https://localhost:8080/"
        },
        "id": "IwOQsO9FNG2Y",
        "outputId": "5b6c697a-c394-4aaf-c11f-518d4e755478"
      },
      "execution_count": 15,
      "outputs": [
        {
          "output_type": "stream",
          "name": "stdout",
          "text": [
            "['.config', 'text_analysis_results.xlsx', 'extracted_articles', 'StopWords_Geographic.txt', 'StopWords_Currencies.txt', 'StopWords_Names.txt', 'Input.xlsx', 'negative-words.txt', 'Output Data Structure.xlsx', 'positive-words.txt', 'StopWords_Auditor.txt', 'StopWords_Generic.txt', 'StopWords_GenericLong.txt', 'StopWords_DatesandNumbers.txt', 'sample_data']\n"
          ]
        }
      ]
    },
    {
      "cell_type": "code",
      "source": [
        "results_df.to_csv('text_analysis_results.csv', index=False)\n"
      ],
      "metadata": {
        "id": "hSxwPnhyN7CB"
      },
      "execution_count": 16,
      "outputs": []
    },
    {
      "cell_type": "code",
      "source": [
        "from google.colab import files\n",
        "files.download('text_analysis_results.xlsx')\n"
      ],
      "metadata": {
        "colab": {
          "base_uri": "https://localhost:8080/",
          "height": 17
        },
        "id": "wQRkt8tiOJBY",
        "outputId": "7f27d109-4264-43e7-9ad2-cbe94e0e0f48"
      },
      "execution_count": 17,
      "outputs": [
        {
          "output_type": "display_data",
          "data": {
            "text/plain": [
              "<IPython.core.display.Javascript object>"
            ],
            "application/javascript": [
              "\n",
              "    async function download(id, filename, size) {\n",
              "      if (!google.colab.kernel.accessAllowed) {\n",
              "        return;\n",
              "      }\n",
              "      const div = document.createElement('div');\n",
              "      const label = document.createElement('label');\n",
              "      label.textContent = `Downloading \"${filename}\": `;\n",
              "      div.appendChild(label);\n",
              "      const progress = document.createElement('progress');\n",
              "      progress.max = size;\n",
              "      div.appendChild(progress);\n",
              "      document.body.appendChild(div);\n",
              "\n",
              "      const buffers = [];\n",
              "      let downloaded = 0;\n",
              "\n",
              "      const channel = await google.colab.kernel.comms.open(id);\n",
              "      // Send a message to notify the kernel that we're ready.\n",
              "      channel.send({})\n",
              "\n",
              "      for await (const message of channel.messages) {\n",
              "        // Send a message to notify the kernel that we're ready.\n",
              "        channel.send({})\n",
              "        if (message.buffers) {\n",
              "          for (const buffer of message.buffers) {\n",
              "            buffers.push(buffer);\n",
              "            downloaded += buffer.byteLength;\n",
              "            progress.value = downloaded;\n",
              "          }\n",
              "        }\n",
              "      }\n",
              "      const blob = new Blob(buffers, {type: 'application/binary'});\n",
              "      const a = document.createElement('a');\n",
              "      a.href = window.URL.createObjectURL(blob);\n",
              "      a.download = filename;\n",
              "      div.appendChild(a);\n",
              "      a.click();\n",
              "      div.remove();\n",
              "    }\n",
              "  "
            ]
          },
          "metadata": {}
        },
        {
          "output_type": "display_data",
          "data": {
            "text/plain": [
              "<IPython.core.display.Javascript object>"
            ],
            "application/javascript": [
              "download(\"download_7fe1b51d-2bd1-40da-ab74-0d55a7032621\", \"text_analysis_results.xlsx\", 21474)"
            ]
          },
          "metadata": {}
        }
      ]
    }
  ]
}